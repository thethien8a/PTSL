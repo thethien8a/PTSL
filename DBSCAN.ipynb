{
 "cells": [
  {
   "cell_type": "code",
   "execution_count": null,
   "metadata": {},
   "outputs": [],
   "source": [
    "from sklearn.datasets import make_blobs\n",
    "import numpy as np\n",
    "import matplotlib.pyplot as plt\n",
    "from sklearn.cluster import KMeans,DBSCAN\n",
    "# Generate 'smiley face' style data manually\n",
    "# Define coordinates for eyes, nose, and mouth\n",
    "\n",
    "# Left eye\n",
    "left_eye = np.random.normal(loc=[-3, 3], scale=0.2, size=(20, 2))\n",
    "\n",
    "# Right eye\n",
    "right_eye = np.random.normal(loc=[3, 3], scale=0.2, size=(20, 2))\n",
    "\n",
    "# Nose\n",
    "nose = np.random.normal(loc=[0, 1], scale=0.2, size=(10, 2))\n",
    "\n",
    "# Mouth (smile arc - semi-circle)\n",
    "theta = np.linspace(-np.pi/6, -5*np.pi/6, 50)\n",
    "mouth_x = 4 * np.cos(theta)\n",
    "mouth_y = 1.5 * np.sin(theta) - 3  # Adjust y for the smile position\n",
    "mouth = np.vstack((mouth_x, mouth_y)).T\n",
    "\n",
    "theta_circle = np.linspace(0, 2 * np.pi, 100)\n",
    "face_outline = np.column_stack((6 * np.cos(theta_circle), 6 * np.sin(theta_circle)))\n",
    "\n",
    "# Combine all parts of the face into a single dataset\n",
    "\n",
    "smiley_data = np.vstack([left_eye, right_eye, nose, mouth,face_outline])\n",
    "\n",
    "# Plot the smiley face data\n",
    "\n",
    "plt.scatter(smiley_data[:, 0], smiley_data[:, 1], color='blue', marker='o')\n",
    "plt.title(\"Smiley Face Data\")\n",
    "plt.xlabel(\"X\")\n",
    "plt.ylabel(\"Y\")\n",
    "plt.axis('equal')\n",
    "plt.grid(True)\n",
    "plt.show()\n"
   ]
  },
  {
   "cell_type": "code",
   "execution_count": 69,
   "metadata": {},
   "outputs": [],
   "source": [
    "import seaborn as sns\n",
    "dbscan = DBSCAN(eps=0.8, min_samples=1)\n",
    "labels = dbscan.fit_predict(smiley_data)\n",
    "\n",
    "\n",
    "# plt.figure(figsize=(6.5,6.5))\n"
   ]
  },
  {
   "cell_type": "code",
   "execution_count": null,
   "metadata": {},
   "outputs": [],
   "source": [
    "labels = [\"Cụm \" + str(x) for x in labels]\n",
    "sns.scatterplot(x=smiley_data[:,0],y=smiley_data[:,1],hue=labels,\n",
    "                palette=\"deep\")\n",
    "plt.title(\"Smiley Face Data\")\n",
    "plt.xlabel(\"X\")\n",
    "plt.ylabel(\"Y\")\n",
    "plt.axis('equal')\n",
    "plt.tight_layout()\n",
    "plt.show()"
   ]
  },
  {
   "cell_type": "code",
   "execution_count": null,
   "metadata": {},
   "outputs": [],
   "source": [
    "import scipy.stats as st \n",
    "st.norm.ppf(0.05)"
   ]
  },
  {
   "cell_type": "markdown",
   "metadata": {},
   "source": [
    "### PRACTICE TRÊN MẠNG"
   ]
  },
  {
   "cell_type": "code",
   "execution_count": 1,
   "metadata": {},
   "outputs": [],
   "source": [
    "import pandas as pd\n",
    "from sklearn.cluster import DBSCAN\n",
    "from sklearn.preprocessing import MinMaxScaler\n",
    "import scipy.cluster.hierarchy as shc\n",
    "import matplotlib.pyplot as plt\n",
    "import matplotlib.patheffects as PathEffects\n",
    "import seaborn as sns\n",
    "import numpy as np"
   ]
  },
  {
   "cell_type": "code",
   "execution_count": null,
   "metadata": {},
   "outputs": [],
   "source": [
    "data = pd.read_csv(\"https://raw.githubusercontent.com/phamdinhkhanh/datasets/cf391fa1a7babe490fdd10c088f0ca1b6d377f59/shopping-data.csv\", header=0, index_col=0)\n",
    "print(data.shape)\n",
    "data.head()"
   ]
  },
  {
   "cell_type": "code",
   "execution_count": null,
   "metadata": {},
   "outputs": [],
   "source": [
    "X = data.iloc[:, 2:4].values\n",
    "print(X.shape)"
   ]
  },
  {
   "cell_type": "code",
   "execution_count": null,
   "metadata": {},
   "outputs": [],
   "source": [
    "std = MinMaxScaler()\n",
    "X_std = std.fit_transform(X)\n"
   ]
  }
 ],
 "metadata": {
  "kernelspec": {
   "display_name": "Python 3",
   "language": "python",
   "name": "python3"
  },
  "language_info": {
   "codemirror_mode": {
    "name": "ipython",
    "version": 3
   },
   "file_extension": ".py",
   "mimetype": "text/x-python",
   "name": "python",
   "nbconvert_exporter": "python",
   "pygments_lexer": "ipython3",
   "version": "3.12.2"
  }
 },
 "nbformat": 4,
 "nbformat_minor": 2
}
